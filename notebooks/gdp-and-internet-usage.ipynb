{
 "cells": [
  {
   "cell_type": "code",
   "execution_count": 1,
   "id": "26d3734b",
   "metadata": {},
   "outputs": [],
   "source": [
    "import pandas as pd\n",
    "import numpy as np  \n",
    "import matplotlib.pyplot as plt  \n",
    "import seaborn as sns"
   ]
  },
  {
   "cell_type": "markdown",
   "id": "b7779641",
   "metadata": {},
   "source": [
    "Using the pandas `read_csv()` method, read the GDP dataset into your notebook as a DataFrame called `gdp_df`. Take a look at the first few and last few rows to familiarize yourself with what is contained in this dataset."
   ]
  },
  {
   "cell_type": "code",
   "execution_count": 2,
   "id": "05ffd2d6",
   "metadata": {},
   "outputs": [],
   "source": [
    "gdp_df= pd.read_csv('../data/gdp_percapita.csv')"
   ]
  },
  {
   "cell_type": "markdown",
   "id": "d2d007ff",
   "metadata": {},
   "source": [
    "How many rows and columns are in `gdp_df`? What are the data types of each column?"
   ]
  },
  {
   "cell_type": "code",
   "execution_count": 3,
   "id": "3bcb3df1",
   "metadata": {},
   "outputs": [
    {
     "name": "stdout",
     "output_type": "stream",
     "text": [
      "<class 'pandas.core.frame.DataFrame'>\n",
      "RangeIndex: 7662 entries, 0 to 7661\n",
      "Data columns (total 4 columns):\n",
      " #   Column           Non-Null Count  Dtype  \n",
      "---  ------           --------------  -----  \n",
      " 0   Country or Area  7662 non-null   object \n",
      " 1   Year             7662 non-null   int64  \n",
      " 2   Value            7662 non-null   float64\n",
      " 3   Value Footnotes  0 non-null      float64\n",
      "dtypes: float64(2), int64(1), object(1)\n",
      "memory usage: 239.6+ KB\n",
      "None\n"
     ]
    }
   ],
   "source": [
    "print(gdp_df.info())"
   ]
  },
  {
   "cell_type": "markdown",
   "id": "3dc9db17",
   "metadata": {},
   "source": [
    "There are 4 columns and 7662 rows.  Column 1 is an object, column 2 is an integer, and columns 3 and 4 are floats."
   ]
  },
  {
   "cell_type": "markdown",
   "id": "fb2dd0d8",
   "metadata": {},
   "source": [
    "Drop the `Value Footnotes` column and rename the remaining three to 'Country', 'Year', and 'GDP_Per_Capita'."
   ]
  },
  {
   "cell_type": "code",
   "execution_count": 4,
   "id": "2506f8a9",
   "metadata": {},
   "outputs": [],
   "source": [
    "gdp_df= gdp_df.drop('Value Footnotes',axis=1)"
   ]
  },
  {
   "cell_type": "code",
   "execution_count": 5,
   "id": "84b4138b",
   "metadata": {},
   "outputs": [],
   "source": [
    "gdp_df= gdp_df.rename(columns={'Country or Area':'Country','Year':'Year','Value':'GDP_Per_Capita'})"
   ]
  },
  {
   "cell_type": "code",
   "execution_count": 6,
   "id": "2a8e70ce",
   "metadata": {},
   "outputs": [
    {
     "data": {
      "text/html": [
       "<div>\n",
       "<style scoped>\n",
       "    .dataframe tbody tr th:only-of-type {\n",
       "        vertical-align: middle;\n",
       "    }\n",
       "\n",
       "    .dataframe tbody tr th {\n",
       "        vertical-align: top;\n",
       "    }\n",
       "\n",
       "    .dataframe thead th {\n",
       "        text-align: right;\n",
       "    }\n",
       "</style>\n",
       "<table border=\"1\" class=\"dataframe\">\n",
       "  <thead>\n",
       "    <tr style=\"text-align: right;\">\n",
       "      <th></th>\n",
       "      <th>Country</th>\n",
       "      <th>Year</th>\n",
       "      <th>GDP_Per_Capita</th>\n",
       "    </tr>\n",
       "  </thead>\n",
       "  <tbody>\n",
       "    <tr>\n",
       "      <th>0</th>\n",
       "      <td>Afghanistan</td>\n",
       "      <td>2021</td>\n",
       "      <td>1517.016266</td>\n",
       "    </tr>\n",
       "    <tr>\n",
       "      <th>1</th>\n",
       "      <td>Afghanistan</td>\n",
       "      <td>2020</td>\n",
       "      <td>1968.341002</td>\n",
       "    </tr>\n",
       "    <tr>\n",
       "      <th>2</th>\n",
       "      <td>Afghanistan</td>\n",
       "      <td>2019</td>\n",
       "      <td>2079.921861</td>\n",
       "    </tr>\n",
       "    <tr>\n",
       "      <th>3</th>\n",
       "      <td>Afghanistan</td>\n",
       "      <td>2018</td>\n",
       "      <td>2060.698973</td>\n",
       "    </tr>\n",
       "    <tr>\n",
       "      <th>4</th>\n",
       "      <td>Afghanistan</td>\n",
       "      <td>2017</td>\n",
       "      <td>2096.093111</td>\n",
       "    </tr>\n",
       "  </tbody>\n",
       "</table>\n",
       "</div>"
      ],
      "text/plain": [
       "       Country  Year  GDP_Per_Capita\n",
       "0  Afghanistan  2021     1517.016266\n",
       "1  Afghanistan  2020     1968.341002\n",
       "2  Afghanistan  2019     2079.921861\n",
       "3  Afghanistan  2018     2060.698973\n",
       "4  Afghanistan  2017     2096.093111"
      ]
     },
     "execution_count": 6,
     "metadata": {},
     "output_type": "execute_result"
    }
   ],
   "source": [
    "gdp_df.head()"
   ]
  },
  {
   "cell_type": "markdown",
   "id": "b9e8ce98",
   "metadata": {},
   "source": [
    "7. How many countries have data for all years? Which countries are missing many years of data? Look at the number of observations per year. What do you notice?"
   ]
  },
  {
   "cell_type": "code",
   "execution_count": 7,
   "id": "5d72e78a",
   "metadata": {},
   "outputs": [
    {
     "name": "stdout",
     "output_type": "stream",
     "text": [
      "1990 2022\n",
      "No.of.unique values in each column :\n",
      " Country            242\n",
      "Year                33\n",
      "GDP_Per_Capita    7624\n",
      "dtype: int64\n"
     ]
    }
   ],
   "source": [
    "min_year = gdp_df['Year'].min()\n",
    "max_year = gdp_df['Year'].max()\n",
    "print(min_year,max_year)\n",
    "\n",
    "n = gdp_df.nunique(axis=0)\n",
    "print(\"No.of.unique values in each column :\\n\",\n",
    "      n) #tells me how many countries are in the df and how many years"
   ]
  },
  {
   "cell_type": "code",
   "execution_count": 8,
   "id": "8acd1224",
   "metadata": {},
   "outputs": [
    {
     "name": "stdout",
     "output_type": "stream",
     "text": [
      "Year\n",
      "1990    207\n",
      "1991    208\n",
      "1992    210\n",
      "1993    211\n",
      "1994    213\n",
      "1995    223\n",
      "1996    223\n",
      "1997    226\n",
      "1998    226\n",
      "1999    227\n",
      "2000    233\n",
      "2001    234\n",
      "2002    235\n",
      "2003    235\n",
      "2004    236\n",
      "2005    236\n",
      "2006    237\n",
      "2007    237\n",
      "2008    238\n",
      "2009    239\n",
      "2010    239\n",
      "2011    240\n",
      "2012    240\n",
      "2013    242\n",
      "2014    242\n",
      "2015    242\n",
      "2016    242\n",
      "2017    242\n",
      "2018    242\n",
      "2019    242\n",
      "2020    242\n",
      "2021    241\n",
      "2022    232\n",
      "Name: Country, dtype: int64\n"
     ]
    }
   ],
   "source": [
    "total_each_year= gdp_df.groupby('Year').count()\n",
    "print(total_each_year['Country'])"
   ]
  },
  {
   "cell_type": "code",
   "execution_count": 12,
   "id": "172d3022",
   "metadata": {},
   "outputs": [
    {
     "name": "stdout",
     "output_type": "stream",
     "text": [
      "Country\n",
      "Afghanistan                  True\n",
      "Aruba                        True\n",
      "Bhutan                       True\n",
      "Bosnia and Herzegovina       True\n",
      "Cambodia                     True\n",
      "Cayman Islands               True\n",
      "Croatia                      True\n",
      "CuraÃ§ao                     True\n",
      "Djibouti                     True\n",
      "Estonia                      True\n",
      "Hungary                      True\n",
      "Iceland                      True\n",
      "Israel                       True\n",
      "Kosovo                       True\n",
      "Kuwait                       True\n",
      "Latvia                       True\n",
      "Lebanon                      True\n",
      "Liberia                      True\n",
      "Libya                        True\n",
      "Lithuania                    True\n",
      "Maldives                     True\n",
      "Moldova                      True\n",
      "Montenegro                   True\n",
      "Nauru                        True\n",
      "Other small states           True\n",
      "Palau                        True\n",
      "Qatar                        True\n",
      "San Marino                   True\n",
      "Serbia                       True\n",
      "Sint Maarten (Dutch part)    True\n",
      "Slovak Republic              True\n",
      "Slovenia                     True\n",
      "Small states                 True\n",
      "Somalia                      True\n",
      "SÃ£o TomÃ© and Principe      True\n",
      "Timor-Leste                  True\n",
      "Tonga                        True\n",
      "Turkmenistan                 True\n",
      "Turks and Caicos Islands     True\n",
      "West Bank and Gaza           True\n",
      "Name: Year, dtype: bool\n"
     ]
    }
   ],
   "source": [
    "missing_years = gdp_df.groupby(\"Country\")[\"Year\"].count()<33 \n",
    "#this should be a list of countries with less than 33 years of data but need to figure out how to return a count value\n",
    "\n",
    "print(missing_years[missing_years==True]) \n"
   ]
  },
  {
   "cell_type": "code",
   "execution_count": 14,
   "id": "a8b9fa97",
   "metadata": {},
   "outputs": [
    {
     "name": "stdout",
     "output_type": "stream",
     "text": [
      "202\n"
     ]
    }
   ],
   "source": [
    "all_years=missing_years[missing_years==False].count()\n",
    "\n",
    "print(all_years) #countries with data for all 33 years"
   ]
  },
  {
   "cell_type": "code",
   "execution_count": 15,
   "id": "02ebe59d",
   "metadata": {},
   "outputs": [
    {
     "name": "stdout",
     "output_type": "stream",
     "text": [
      "40\n"
     ]
    }
   ],
   "source": [
    "some_years=missing_years[missing_years==True].count()\n",
    "print(some_years) #countries missing at least one year of data"
   ]
  },
  {
   "cell_type": "code",
   "execution_count": 17,
   "id": "388fdc0b",
   "metadata": {
    "scrolled": false
   },
   "outputs": [
    {
     "name": "stdout",
     "output_type": "stream",
     "text": [
      "29\n",
      "Country\n",
      "Afghanistan                  True\n",
      "Cayman Islands               True\n",
      "Croatia                      True\n",
      "CuraÃ§ao                     True\n",
      "Djibouti                     True\n",
      "Estonia                      True\n",
      "Iceland                      True\n",
      "Israel                       True\n",
      "Kosovo                       True\n",
      "Latvia                       True\n",
      "Liberia                      True\n",
      "Libya                        True\n",
      "Lithuania                    True\n",
      "Maldives                     True\n",
      "Moldova                      True\n",
      "Montenegro                   True\n",
      "Nauru                        True\n",
      "Other small states           True\n",
      "Palau                        True\n",
      "Qatar                        True\n",
      "San Marino                   True\n",
      "Serbia                       True\n",
      "Sint Maarten (Dutch part)    True\n",
      "Slovenia                     True\n",
      "Small states                 True\n",
      "Somalia                      True\n",
      "SÃ£o TomÃ© and Principe      True\n",
      "Timor-Leste                  True\n",
      "Turks and Caicos Islands     True\n",
      "Name: Year, dtype: bool\n"
     ]
    }
   ],
   "source": [
    "many_years=gdp_df.groupby(\"Country\")[\"Year\"].count()<=28 #defining 'many years' as at least 5 years \n",
    "print(many_years[many_years==True].count())\n",
    "print(many_years[many_years==True])"
   ]
  },
  {
   "cell_type": "markdown",
   "id": "81f2bc02",
   "metadata": {},
   "source": [
    "There are 202 countries with data for all 33 years and 29 countries missing at least 5 years of data. A lot of these countries have had some type of war or conflict in the past 33 years which could be why there is data missing."
   ]
  },
  {
   "cell_type": "markdown",
   "id": "18a0511f",
   "metadata": {},
   "source": [
    "8. In this question, you're going to create some plots to show the distribution of GDP per capita for the year 2020. Go to the Python Graph Gallery (https://www.python-graph-gallery.com/) and look at the different types of plots under the Distribution section. Create a histogram, a density plot, a boxplot, and a violin plot. What do you notice when you look at these plots? How do the plots compare and what information can you get out of one type that you can't necessarily get out of the others?"
   ]
  },
  {
   "cell_type": "code",
   "execution_count": 25,
   "id": "da499b3b",
   "metadata": {
    "scrolled": false
   },
   "outputs": [
    {
     "data": {
      "image/png": "[encoded data removed]",
      "text/plain": [
       "<Figure size 640x480 with 1 Axes>"
      ]
     },
     "metadata": {},
     "output_type": "display_data"
    }
   ],
   "source": [
    "#histogram\n",
    "gdp_2020=gdp_df[gdp_df['Year']==2020]\n",
    "gdp_2020.hist('GDP_Per_Capita')\n",
    "plt.title('GDP Per Capita (2020)')\n",
    "plt.show()"
   ]
  },
  {
   "cell_type": "code",
   "execution_count": null,
   "id": "d6fe3421",
   "metadata": {},
   "outputs": [],
   "source": [
    "#density plot"
   ]
  },
  {
   "cell_type": "code",
   "execution_count": null,
   "id": "a93c8a7a",
   "metadata": {},
   "outputs": [],
   "source": [
    "#scatter plot"
   ]
  },
  {
   "cell_type": "code",
   "execution_count": null,
   "id": "64d1a2f8",
   "metadata": {},
   "outputs": [],
   "source": [
    "#violin plot\n"
   ]
  },
  {
   "cell_type": "markdown",
   "id": "c06162ef",
   "metadata": {},
   "source": [
    "9. What was the median GDP per capita value in 2020?"
   ]
  },
  {
   "cell_type": "markdown",
   "id": "1b4ea0fe",
   "metadata": {},
   "source": [
    "10. For this question, you're going to create some visualizations to compare GDP per capita values for the years 1990, 2000, 2010, and 2020. Start by subsetting your data to just these 4 years into a new DataFrame named gdp_decades. Using this, create the following 4 plots:\n",
    "\t* A boxplot\n",
    "\t* A barplot (check out the Barplot with Seaborn section: https://www.python-graph-gallery.com/barplot/#Seaborn)\n",
    "\t* A scatterplot\n",
    "\t* A scatterplot with a trend line overlaid (see this regplot example: https://www.python-graph-gallery.com/42-custom-linear-regression-fit-seaborn)  \n",
    "Comment on what you observe has happened to GDP values over time and the relative strengths and weaknesses of each type of plot.\n"
   ]
  },
  {
   "cell_type": "markdown",
   "id": "da16da9f",
   "metadata": {},
   "source": [
    "11. Which country was the first to have a GDP per capita greater than $100,000?"
   ]
  },
  {
   "cell_type": "markdown",
   "id": "2aff8f5a",
   "metadata": {},
   "source": [
    "12. Which country had the highest GDP per capita in 2020? Create a plot showing how this country's GDP per capita has changed over the timespan of the dataset"
   ]
  },
  {
   "cell_type": "markdown",
   "id": "d43eff57",
   "metadata": {},
   "source": [
    "13. Which country had the lowest GDP per capita in 2020? Create a plot showing how this country's GDP per capita has changed over the timespan of the dataset. **Bonus question:** Is it true in general that coutries had a higher GDP per capita in 2020 than in 1990? Which countries had lower GDP per capita in 2020 than in 1990?"
   ]
  },
  {
   "cell_type": "markdown",
   "id": "9607fced",
   "metadata": {},
   "source": [
    "14. Read in the internet use dataset into a DataFrame named `internet_df`. You will likely get errors when doing this. Check the arguments for the read_csv function to find ones that can help correct the errors (https://pandas.pydata.org/docs/reference/api/pandas.read_csv.html) Once you are able to read it in, take per a look at the top and bottom few rows to make sure that it has been read in correctly. Also, check the datatypes of the columns."
   ]
  },
  {
   "cell_type": "markdown",
   "id": "0d66e915",
   "metadata": {},
   "source": [
    "15. Drop the `Value Footnotes` column and rename the remaining three to 'Country', 'Year', and 'Internet_Users_Pct'."
   ]
  }
 ],
 "metadata": {
  "kernelspec": {
   "display_name": "Python 3 (ipykernel)",
   "language": "python",
   "name": "python3"
  },
  "language_info": {
   "codemirror_mode": {
    "name": "ipython",
    "version": 3
   },
   "file_extension": ".py",
   "mimetype": "text/x-python",
   "name": "python",
   "nbconvert_exporter": "python",
   "pygments_lexer": "ipython3",
   "version": "3.11.5"
  }
 },
 "nbformat": 4,
 "nbformat_minor": 5
}
